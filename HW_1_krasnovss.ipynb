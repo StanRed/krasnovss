{
 "cells": [
  {
   "cell_type": "markdown",
   "metadata": {},
   "source": [
    "### Задача 1 (1 балл)"
   ]
  },
  {
   "cell_type": "markdown",
   "metadata": {},
   "source": [
    "Число 1234 записали 50 подряд, а потом полученное 200-значное число возвели в квадрат. Вывести это число."
   ]
  },
  {
   "cell_type": "code",
   "execution_count": 3,
   "metadata": {},
   "outputs": [
    {
     "data": {
      "text/plain": [
       "152306059688877178546937602051034186326923521435051796008683776668495932501540983181226413470429951285957678676158444927401030932176125903419424850775906673575648393922300520881171025393368419750265852622353944565373629072078124904199590876179327103627454454616378729582129130004709641881279837154632554964667383830092180135105219692886380347205637655474718388930602231140205729743891480857256642756"
      ]
     },
     "execution_count": 3,
     "metadata": {},
     "output_type": "execute_result"
    }
   ],
   "source": [
    "def pr1(i):\n",
    "    return int(str(i)*50)**2\n",
    "\n",
    "pr1(1234)"
   ]
  },
  {
   "cell_type": "markdown",
   "metadata": {},
   "source": [
    "Во всех задачах далее нужно написать тело функции и протестировать функцию на корректность"
   ]
  },
  {
   "cell_type": "markdown",
   "metadata": {},
   "source": [
    "### Задача 2 (2 балла)"
   ]
  },
  {
   "cell_type": "markdown",
   "metadata": {},
   "source": [
    "Посчитать 1! + 2! + 3! + 4! + ... + n! для заданного n. Решить только одним циклом"
   ]
  },
  {
   "cell_type": "code",
   "execution_count": 43,
   "metadata": {
    "collapsed": true
   },
   "outputs": [],
   "source": [
    "import math\n",
    "def pr2 (n):\n",
    "    i=1\n",
    "    r=0\n",
    "    while (i<=n):\n",
    "        r = r+math.factorial(i)\n",
    "        i+=1\n",
    "    return r\n",
    "\n",
    "assert pr2(1) == 1\n",
    "assert pr2(3) == 9\n",
    "assert pr2(5) == 153\n",
    "assert pr2(7) == 5913"
   ]
  },
  {
   "cell_type": "markdown",
   "metadata": {},
   "source": [
    "### Задача 3 (2 балла)"
   ]
  },
  {
   "cell_type": "markdown",
   "metadata": {},
   "source": [
    "Найти среднее арифметическое отрицательных элементов в списке"
   ]
  },
  {
   "cell_type": "code",
   "execution_count": 44,
   "metadata": {},
   "outputs": [],
   "source": [
    "def pr3(list):\n",
    "    mean = 0\n",
    "    count = 0\n",
    "    for i in list:\n",
    "        if i<0:\n",
    "            mean+=i\n",
    "            count+=1\n",
    "    if count == 0:\n",
    "        count +=1\n",
    "    return mean/count\n",
    "\n",
    "assert pr3([]) == 0\n",
    "assert pr3([1,-1,-3,3]) == -2\n",
    "assert pr3([1,2,3,4]) == 0"
   ]
  },
  {
   "cell_type": "markdown",
   "metadata": {},
   "source": [
    "### Задача 4 (2 балла)"
   ]
  },
  {
   "cell_type": "markdown",
   "metadata": {},
   "source": [
    "Найти расстояние между точками с заданными координатами в n-мерном пространстве"
   ]
  },
  {
   "cell_type": "code",
   "execution_count": 45,
   "metadata": {
    "collapsed": true
   },
   "outputs": [],
   "source": [
    "import math\n",
    "def pr4(p1, p2): \n",
    "    r = 0\n",
    "    i = 0\n",
    "    while (i<len(p1)):\n",
    "        r+=((p1[i] - p2[i]) ** 2)\n",
    "        i+=1\n",
    "    return math.sqrt(r)\n",
    "\n",
    "assert pr4((1, 0), (2, 0)) == 1\n",
    "assert pr4((0,4,5),(5,4,5)) == 5"
   ]
  },
  {
   "cell_type": "markdown",
   "metadata": {},
   "source": [
    "### Задача 5 (3 балла)"
   ]
  },
  {
   "cell_type": "markdown",
   "metadata": {},
   "source": [
    "Дан список-массив, заполненный случайным образом нулями и единицами. Найти самую длинную непрерывную последовательность единиц и определить индексы первого и последнего элементов в ней"
   ]
  },
  {
   "cell_type": "code",
   "execution_count": 100,
   "metadata": {
    "collapsed": true
   },
   "outputs": [],
   "source": [
    "def pr5 (lst):\n",
    "    i=1\n",
    "    starts=[]\n",
    "    ends=[]\n",
    "    lst.append(0)\n",
    "    lst.reverse()\n",
    "    lst.append(0)\n",
    "    lst.reverse()\n",
    "    while (i<len(lst)):\n",
    "        if lst[i] == 1 and lst[i-1] == 0:\n",
    "            starts.append(i)\n",
    "        elif lst[i] == 0 and lst[i-1] == 1:\n",
    "            ends.append(i)\n",
    "        i+=1\n",
    "    maxlength=0\n",
    "    firstid=0\n",
    "    lastid=0\n",
    "    for t in zip(starts,ends):\n",
    "        length = t[1]-t[0]\n",
    "        if length > maxlength:\n",
    "            maxlength=length\n",
    "            firstid=t[0]-1\n",
    "            lastid=t[1]-2\n",
    "    return maxlength, firstid, lastid\n",
    "    \n",
    "assert pr5([0, 1, 0, 1, 1, 0, 0, 0]) == (2, 3, 4)\n",
    "assert pr5([1,1,1,1,1,1,1,1,1,1,1,1]) == (12,0,11)\n",
    "assert pr5([0,1,1,0,1,1,1,1,1,1,0,1,0,1,1,1,1,0]) == (6,4,9)"
   ]
  },
  {
   "cell_type": "markdown",
   "metadata": {},
   "source": [
    "### Задача 6 (3 балла)"
   ]
  },
  {
   "cell_type": "markdown",
   "metadata": {},
   "source": [
    "Найти суммы элементов столбцов матрицы и отсортировать столбцы матрицы по возрастанию найденных сумм"
   ]
  },
  {
   "cell_type": "code",
   "execution_count": 100,
   "metadata": {},
   "outputs": [],
   "source": [
    "def pr6(matrix):\n",
    "    matrix = [[matrix[i][j] for i in range(len(matrix))] for j in range(len(matrix[0]))]\n",
    "    for c in matrix:\n",
    "        x=sum(c)\n",
    "        c.append(x)\n",
    "        c.reverse()\n",
    "    matrix = sorted(matrix)\n",
    "    for d in matrix:\n",
    "        d.reverse()\n",
    "        d.pop(len(d)-1)\n",
    "    matrix = [[matrix[i][j] for i in range(len(matrix))] for j in range(len(matrix[0]))]\n",
    "    return matrix\n",
    "\n",
    "assert pr6([[5, 0, 1], [1, 1, 1], [2, 2, 0]]) == [[1, 0, 5], [1,1,1], [0,2,2]]\n",
    "assert pr6([[1, 2, 3], [4, 0, 0], [36, 24, 12],[48,0,16]])== [[2, 3, 1], [0, 0, 4], [24, 12, 36], [0, 16, 48]]"
   ]
  },
  {
   "cell_type": "markdown",
   "metadata": {},
   "source": [
    "### Задача 7 (3 балла)"
   ]
  },
  {
   "cell_type": "markdown",
   "metadata": {},
   "source": [
    "На вход подаётся строка S и буква w. Нужно развернуть в этой строке подстроку, заключенную между первой и последней буквой w, и вернуть получившуюся строку. Если данной буквы в строке нет, то вернуть -1. Если строка содержит только одну данную букву, то вернуть строку без изменений"
   ]
  },
  {
   "cell_type": "code",
   "execution_count": 40,
   "metadata": {},
   "outputs": [],
   "source": [
    "def pr7 (S,w):\n",
    "    first=S.find(w)\n",
    "    last=len(S)-S[::-1].find(w)-1\n",
    "    if first == -1:\n",
    "        return -1\n",
    "    elif first == last:\n",
    "        return S\n",
    "    else: return S[first+1:last]\n",
    "\n",
    "assert pr7('abcdefgefg', 'e') == 'fg'\n",
    "assert pr7('abcabcabcabcabc', 'a') == 'bcabcabcabc'\n",
    "assert pr7 ('qwerty', 'b') == -1\n",
    "assert pr7('hodor', 'd') == 'hodor'"
   ]
  },
  {
   "cell_type": "markdown",
   "metadata": {},
   "source": [
    "### Задача 8 (4 балла + 2 балла за оформления в виде функции, принимающей текст на русском языке)"
   ]
  },
  {
   "cell_type": "markdown",
   "metadata": {},
   "source": [
    "Дан текст. Посчитать, сколько раз встречается каждое словои и вывести слова в порядке убывания количествА повторений слова (при совпадении частоты встречаемости -- вывести в лексикографическом порядке)"
   ]
  },
  {
   "cell_type": "code",
   "execution_count": 16,
   "metadata": {
    "collapsed": true
   },
   "outputs": [],
   "source": [
    "with open('problem_8_text.txt', 'r') as fl:\n",
    "     text = fl.read()\n",
    "#Теперь в text лежит сказка о Бабе-Яге =)\n",
    "\n",
    "#Теперь обработайте текст и сделайте красивенький вывод"
   ]
  }
 ],
 "metadata": {
  "kernelspec": {
   "display_name": "Python 3",
   "language": "python",
   "name": "python3"
  },
  "language_info": {
   "codemirror_mode": {
    "name": "ipython",
    "version": 3
   },
   "file_extension": ".py",
   "mimetype": "text/x-python",
   "name": "python",
   "nbconvert_exporter": "python",
   "pygments_lexer": "ipython3",
   "version": "3.6.2"
  }
 },
 "nbformat": 4,
 "nbformat_minor": 2
}
